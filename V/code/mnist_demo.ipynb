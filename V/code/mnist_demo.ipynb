{
 "cells": [
  {
   "cell_type": "code",
   "execution_count": 1,
   "metadata": {},
   "outputs": [
    {
     "name": "stdout",
     "output_type": "stream",
     "text": [
      "Current cuda device is cuda\n",
      "number of training data :  60000\n",
      "number of test data :  10000\n"
     ]
    }
   ],
   "source": [
    "import torch\n",
    "import torch.nn as nn\n",
    "import torch.nn.functional as F\n",
    "import torch.optim as optim\n",
    "from torchvision import datasets, transforms\n",
    "from matplotlib import pyplot as plt\n",
    "\n",
    "device = torch.device('cuda' if torch.cuda.is_available() else 'cpu')\n",
    "\n",
    "print('Current cuda device is', device)\n",
    "\n",
    "batch_size = 50\n",
    "learning_rate = 0.0001\n",
    "epoch_num = 15\n",
    "\n",
    "train_data = datasets.MNIST(root = '../data/mnist/',\n",
    "                            train=True,\n",
    "                            download=True,\n",
    "                            transform=transforms.ToTensor())\n",
    "test_data = datasets.MNIST(root = '../data/mnist/',\n",
    "                            train=False,\n",
    "                            download=True,\n",
    "                            transform=transforms.ToTensor())\n",
    "print('number of training data : ', len(train_data))\n",
    "print('number of test data : ', len(test_data))"
   ]
  },
  {
   "cell_type": "code",
   "execution_count": 2,
   "metadata": {},
   "outputs": [
    {
     "data": {
      "image/png": "[encoded data removed]",
      "text/plain": [
       "<Figure size 640x480 with 1 Axes>"
      ]
     },
     "metadata": {},
     "output_type": "display_data"
    }
   ],
   "source": [
    "image, label = train_data[0]\n",
    "plt.imshow(image.squeeze().numpy())#, cmap='gray')\n",
    "plt.title('label : %s' % label)\n",
    "plt.show()"
   ]
  },
  {
   "cell_type": "code",
   "execution_count": 41,
   "metadata": {},
   "outputs": [
    {
     "name": "stdout",
     "output_type": "stream",
     "text": [
      "torch.Size([784, 784])\n"
     ]
    }
   ],
   "source": [
    "# train_data\n",
    "# let's PCA the data\n",
    "\n",
    "# making dataset as m ,n matrix\n",
    "\n",
    "type(train_data[0][0]),train_data[0][0].shape\n",
    "# making dataset as m ,n matrix\n",
    "# resize the image to 1D\n",
    "\n",
    "Data_dist = []\n",
    "for i in range(1000):\n",
    "    \n",
    "    a = train_data[i][0].view(-1)\n",
    "    Data_dist.append(a)\n",
    "data = torch.stack(Data_dist)\n",
    "type(data),data.shape\n",
    "\n",
    "xtx = (data.T)@data\n",
    "print(xtx.shape)"
   ]
  },
  {
   "cell_type": "code",
   "execution_count": 54,
   "metadata": {},
   "outputs": [],
   "source": [
    "\n",
    "def PCA(data, k):\n",
    "    xtx = (data.T)@data\n",
    "    \n",
    "    # xtx = xtx.to(torch.complex128)\n",
    "    # eigenvalue decomposition      \n",
    "    L,V = torch.linalg.eig(xtx)# eigenvale lambda, eigenvector V\n",
    "    torch.dist(V @ torch.diag(L) @ torch.linalg.inv(V) , xtx)\n",
    "    # sort eigenvalue and eigenvector\n",
    "    L = L.real\n",
    "    D = torch.diag(L)\n",
    "    data_reduced = V[:,:k] @ torch.sqrt(D[:k,:k])\n",
    "    # data@data^T = V@D@V^T\n",
    "    # U = data@V@D^(-1/2)\n",
    "    \n",
    "    \n",
    "    "
   ]
  },
  {
   "cell_type": "code",
   "execution_count": 56,
   "metadata": {},
   "outputs": [
    {
     "data": {
      "text/plain": [
       "(torch.Size([784]), torch.Size([784, 784]))"
      ]
     },
     "execution_count": 56,
     "metadata": {},
     "output_type": "execute_result"
    }
   ],
   "source": [
    "L.shape,V.shape"
   ]
  },
  {
   "cell_type": "code",
   "execution_count": 67,
   "metadata": {},
   "outputs": [],
   "source": [
    "D = torch.diag(L)\n",
    "\n",
    "# U = data @ V @ torch.linalg.inv(D)\n",
    "\n",
    "# U = U.to(torch.complex128)\n",
    "# torch.dist(U.T @ U , torch.eye(784))a\n",
    "# U.shape"
   ]
  },
  {
   "cell_type": "code",
   "execution_count": 68,
   "metadata": {},
   "outputs": [],
   "source": [
    "\n",
    "Data_dist = []\n",
    "for i in range(1000):\n",
    "    \n",
    "    a = train_data[i][0].view(-1)\n",
    "    Data_dist.append(a)\n",
    "data = torch.stack(Data_dist)"
   ]
  },
  {
   "cell_type": "code",
   "execution_count": 71,
   "metadata": {},
   "outputs": [
    {
     "data": {
      "text/plain": [
       "torch.Size([1000, 784])"
      ]
     },
     "execution_count": 71,
     "metadata": {},
     "output_type": "execute_result"
    }
   ],
   "source": [
    "data = data.to(torch.float64) //255.0\n",
    "\n",
    "# subtract mean\n",
    "data = data - torch.mean(data,0)\n",
    "\n"
   ]
  },
  {
   "cell_type": "code",
   "execution_count": null,
   "metadata": {},
   "outputs": [],
   "source": []
  },
  {
   "cell_type": "code",
   "execution_count": 65,
   "metadata": {},
   "outputs": [
    {
     "data": {
      "text/plain": [
       "(torch.Size([60000, 28, 2]),\n",
       " torch.Size([60000, 2]),\n",
       " torch.Size([60000, 28, 2]))"
      ]
     },
     "execution_count": 65,
     "metadata": {},
     "output_type": "execute_result"
    }
   ],
   "source": [
    "import torch\n",
    "import torchvision.datasets as datasets\n",
    "import torchvision.transforms as transforms\n",
    "import matplotlib.pyplot as plt\n",
    "\n",
    "# Load the MNIST dataset\n",
    "# mnist = datasets.MNIST(root=\".\", train=False, download=True, transform=transforms.ToTensor())\n",
    "mnist = train_data\n",
    "\n",
    "# Standardize the data\n",
    "data = mnist.data.float() / 255.0\n",
    "\n",
    "# Perform PCA\n",
    "# pca = transforms.PCA(n_components=2)\n",
    "pca = torch.pca_lowrank(data, q=2)\n",
    "# pca.fit(data)\n",
    "\n",
    "# # Get the principal components\n",
    "# components = pca.components_\n",
    "\n",
    "# # Plot the principal components\n",
    "# plt.scatter(components[:, 0].numpy(), components[:, 1].numpy(), c=mnist.targets)\n",
    "# plt.show()\n",
    "type(pca)#,pca.shape\n",
    "len(pca)\n",
    "pca[0].shape,pca[1].shape,pca[2].shape"
   ]
  },
  {
   "cell_type": "code",
   "execution_count": 6,
   "metadata": {},
   "outputs": [
    {
     "name": "stdout",
     "output_type": "stream",
     "text": [
      "name            | type                      | size\n",
      "Num of Batch    |                           | 1200\n",
      "first_batch     | <class 'list'>            | 2\n",
      "first_batch[0]  | <class 'torch.Tensor'>    | torch.Size([50, 1, 28, 28])\n",
      "first_batch[1]  | <class 'torch.Tensor'>    | torch.Size([50])\n"
     ]
    }
   ],
   "source": [
    "train_loader = torch.utils.data.DataLoader(dataset=train_data,\n",
    "                                           batch_size = batch_size, shuffle = True)\n",
    "test_loader = torch.utils.data.DataLoader(dataset=test_data,\n",
    "                                           batch_size = batch_size, shuffle = True)\n",
    "first_batch = train_loader.__iter__().__next__()\n",
    "\n",
    "print('{:15s} | {:<25s} | {}'.format('name', 'type', 'size'))\n",
    "print('{:15s} | {:<25s} | {}'.format('Num of Batch', '', len(train_loader)))\n",
    "print('{:15s} | {:<25s} | {}'.format('first_batch', str(type(first_batch)), len(first_batch)))\n",
    "print('{:15s} | {:<25s} | {}'.format('first_batch[0]', str(type(first_batch[0])), first_batch[0].shape))\n",
    "print('{:15s} | {:<25s} | {}'.format('first_batch[1]', str(type(first_batch[1])), first_batch[1].shape))"
   ]
  },
  {
   "cell_type": "code",
   "execution_count": 8,
   "metadata": {},
   "outputs": [],
   "source": [
    "class CNN(nn.Module):\n",
    "    def __init__(self):\n",
    "        super(CNN, self).__init__()\n",
    "        self.conv1 = nn.Conv2d(1, 32, 3, 1, padding='same')\n",
    "        self.conv2 = nn.Conv2d(32, 64, 3, 1, padding='same')\n",
    "        self.dropout = nn.Dropout2d(0.25)\n",
    "        # (입력 뉴런, 출력 뉴런)\n",
    "        self.fc1 = nn.Linear(3136, 1000)    # 7 * 7 * 64 = 3136\n",
    "        self.fc2 = nn.Linear(1000, 10)\n",
    "    \n",
    "    def forward(self, x):\n",
    "        x = self.conv1(x)\n",
    "        x = F.relu(x)\n",
    "        x = F.max_pool2d(x, 2)\n",
    "        x = self.conv2(x)\n",
    "        x = F.relu(x)\n",
    "        x = F.max_pool2d(x, 2)\n",
    "        x = self.dropout(x)\n",
    "        x = torch.flatten(x, 1)\n",
    "        x = self.fc1(x)\n",
    "        x = F.relu(x)\n",
    "        x = self.fc2(x)\n",
    "        output = F.log_softmax(x, dim=1)\n",
    "        return output\n",
    "        \n",
    "model = CNN().to(device)\n",
    "optimizer = optim.Adam(model.parameters(), lr = learning_rate)\n",
    "criterion = nn.CrossEntropyLoss()"
   ]
  },
  {
   "cell_type": "code",
   "execution_count": 9,
   "metadata": {},
   "outputs": [
    {
     "name": "stdout",
     "output_type": "stream",
     "text": [
      "Train Step : 1000\tLoss : 0.159432\n",
      "Train Step : 2000\tLoss : 0.027097\n",
      "Train Step : 3000\tLoss : 0.026924\n",
      "Train Step : 4000\tLoss : 0.127474\n",
      "Train Step : 5000\tLoss : 0.030939\n"
     ]
    },
    {
     "ename": "KeyboardInterrupt",
     "evalue": "",
     "output_type": "error",
     "traceback": [
      "\u001b[0;31m---------------------------------------------------------------------------\u001b[0m",
      "\u001b[0;31mKeyboardInterrupt\u001b[0m                         Traceback (most recent call last)",
      "\u001b[1;32m/opt/ml/input/V/code/mnist_demo.ipynb 셀 6\u001b[0m in \u001b[0;36m<cell line: 3>\u001b[0;34m()\u001b[0m\n\u001b[1;32m      <a href='vscode-notebook-cell://ssh-remote%2B49.50.174.162/opt/ml/input/V/code/mnist_demo.ipynb#W4sdnNjb2RlLXJlbW90ZQ%3D%3D?line=3'>4</a>\u001b[0m \u001b[39mfor\u001b[39;00m data, target \u001b[39min\u001b[39;00m train_loader:\n\u001b[1;32m      <a href='vscode-notebook-cell://ssh-remote%2B49.50.174.162/opt/ml/input/V/code/mnist_demo.ipynb#W4sdnNjb2RlLXJlbW90ZQ%3D%3D?line=4'>5</a>\u001b[0m     data \u001b[39m=\u001b[39m data\u001b[39m.\u001b[39mto(device)\n\u001b[0;32m----> <a href='vscode-notebook-cell://ssh-remote%2B49.50.174.162/opt/ml/input/V/code/mnist_demo.ipynb#W4sdnNjb2RlLXJlbW90ZQ%3D%3D?line=5'>6</a>\u001b[0m     target \u001b[39m=\u001b[39m target\u001b[39m.\u001b[39;49mto(device)\n\u001b[1;32m      <a href='vscode-notebook-cell://ssh-remote%2B49.50.174.162/opt/ml/input/V/code/mnist_demo.ipynb#W4sdnNjb2RlLXJlbW90ZQ%3D%3D?line=6'>7</a>\u001b[0m     optimizer\u001b[39m.\u001b[39mzero_grad()\n\u001b[1;32m      <a href='vscode-notebook-cell://ssh-remote%2B49.50.174.162/opt/ml/input/V/code/mnist_demo.ipynb#W4sdnNjb2RlLXJlbW90ZQ%3D%3D?line=7'>8</a>\u001b[0m     output \u001b[39m=\u001b[39m model(data)\n",
      "\u001b[0;31mKeyboardInterrupt\u001b[0m: "
     ]
    }
   ],
   "source": [
    "model.train()\n",
    "i = 1\n",
    "for epoch in range(epoch_num):\n",
    "    for data, target in train_loader:\n",
    "        data = data.to(device)\n",
    "        target = target.to(device)\n",
    "        optimizer.zero_grad()\n",
    "        output = model(data)\n",
    "        loss = criterion(output, target)\n",
    "        loss.backward()\n",
    "        optimizer.step()\n",
    "        if i % 1000 == 0:\n",
    "            print(\"Train Step : {}\\tLoss : {:3f}\".format(i, loss.item()))\n",
    "        i += 1"
   ]
  }
 ],
 "metadata": {
  "kernelspec": {
   "display_name": "deepface",
   "language": "python",
   "name": "python3"
  },
  "language_info": {
   "codemirror_mode": {
    "name": "ipython",
    "version": 3
   },
   "file_extension": ".py",
   "mimetype": "text/x-python",
   "name": "python",
   "nbconvert_exporter": "python",
   "pygments_lexer": "ipython3",
   "version": "3.10.11"
  },
  "orig_nbformat": 4
 },
 "nbformat": 4,
 "nbformat_minor": 2
}
