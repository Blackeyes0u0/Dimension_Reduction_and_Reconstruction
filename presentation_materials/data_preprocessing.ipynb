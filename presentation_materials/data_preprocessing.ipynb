{
 "cells": [
  {
   "cell_type": "code",
   "execution_count": 1,
   "id": "77b68b8e",
   "metadata": {},
   "outputs": [],
   "source": [
    "import matplotlib\n",
    "import matplotlib.pyplot as plt\n",
    "import matplotlib.font_manager as fm"
   ]
  },
  {
   "cell_type": "code",
   "execution_count": 2,
   "id": "44f5d2e9",
   "metadata": {},
   "outputs": [],
   "source": [
    "import os\n",
    "import shutil\n",
    "from bing_image_downloader import downloader\n",
    "\n",
    "\n",
    "directory_list = [\n",
    "    './celeb_dataset/input/',\n",
    "    './celeb_dataset/test/',\n",
    "]\n",
    "\n",
    "\n",
    "# 초기 디렉토리 만들기\n",
    "for directory in directory_list:\n",
    "    if not os.path.isdir(directory):\n",
    "        os.makedirs(directory)\n"
   ]
  },
  {
   "cell_type": "code",
   "execution_count": 3,
   "id": "3afed911",
   "metadata": {},
   "outputs": [],
   "source": [
    "girl_list = ['김태희','김다미','김태리','김지원','배수지']\n",
    "girl_list_eng = ['Taehee','Dami','Taeri','Kimjiwon', 'Suzy']\n"
   ]
  },
  {
   "cell_type": "code",
   "execution_count": 4,
   "id": "1f111303",
   "metadata": {},
   "outputs": [],
   "source": [
    "# 수집한 이미지를 학습 데이터와 평가 데이터로 구분하는 함수\n",
    "def dataset_split(query, train_cnt):\n",
    "    # 학습 및 평가 데이터셋 디렉토리 만들기\n",
    "    for directory in directory_list:\n",
    "        if not os.path.isdir(directory + '/' + query):\n",
    "            os.makedirs(directory + '/' + query)\n",
    "    # 학습 및 평가 데이터셋 준비하기\n",
    "    cnt = 0\n",
    "    for file_name in os.listdir(query):\n",
    "        if cnt < train_cnt:\n",
    "            print(f'[Inpur Dataset] {file_name}')\n",
    "            shutil.move(query + '/' + file_name, './celeb_dataset/input/' + query + '/' + file_name)\n",
    "        else:\n",
    "            print(f'[Test Dataset] {file_name}')\n",
    "            shutil.move(query + '/' + file_name, './celeb_dataset/test/' + query + '/' + file_name)\n",
    "        cnt += 1\n",
    "    shutil.rmtree(query)"
   ]
  },
  {
   "cell_type": "code",
   "execution_count": 5,
   "id": "d01d937f",
   "metadata": {},
   "outputs": [
    {
     "name": "stdout",
     "output_type": "stream",
     "text": [
      "[%] Downloading Images to /opt/ml/project/김태희\n",
      "\n",
      "\n",
      "[!!]Indexing page: 1\n",
      "\n",
      "[%] Indexed 3 Images on Page 1.\n",
      "\n",
      "===============================================\n",
      "\n",
      "[%] Downloading Image #1 from https://i.pinimg.com/originals/53/08/25/53082548d8b69686b045e34dcb39098d.jpg\n",
      "[%] File Downloaded !\n",
      "\n",
      "[%] Downloading Image #2 from http://talkimg.imbc.com/TVianUpload/tvian/TViews/image/2021/06/07/73d10916-4212-4170-b4a3-5096b21b3181.jpg\n",
      "[%] File Downloaded !\n",
      "\n",
      "[%] Downloading Image #3 from https://img.hankyung.com/photo/201911/03.21099891.1.jpg\n",
      "[%] File Downloaded !\n",
      "\n",
      "\n",
      "\n",
      "[%] Done. Downloaded 3 images.\n",
      "[Inpur Dataset] Image_2.jpg\n",
      "[Test Dataset] Image_1.jpg\n",
      "[Test Dataset] Image_3.jpg\n",
      "[%] Downloading Images to /opt/ml/project/김다미\n",
      "\n",
      "\n",
      "[!!]Indexing page: 1\n",
      "\n",
      "[%] Indexed 3 Images on Page 1.\n",
      "\n",
      "===============================================\n",
      "\n",
      "[%] Downloading Image #1 from https://img.hankyung.com/photo/202001/03.21612581.1.jpg\n",
      "[%] File Downloaded !\n",
      "\n",
      "[%] Downloading Image #2 from https://t1.daumcdn.net/cfile/tistory/992C99425B8FCF4E2D\n",
      "[%] File Downloaded !\n",
      "\n",
      "[%] Downloading Image #3 from http://image.ytn.co.kr/osen/2018/06/20180627_1530082560_97836500_1.jpg\n",
      "[%] File Downloaded !\n",
      "\n",
      "\n",
      "\n",
      "[%] Done. Downloaded 3 images.\n",
      "[Inpur Dataset] Image_2.jpg\n",
      "[Test Dataset] Image_1.jpg\n",
      "[Test Dataset] Image_3.jpg\n",
      "[%] Downloading Images to /opt/ml/project/김태리\n",
      "\n",
      "\n",
      "[!!]Indexing page: 1\n",
      "\n",
      "[%] Indexed 3 Images on Page 1.\n",
      "\n",
      "===============================================\n",
      "\n",
      "[%] Downloading Image #1 from https://image.ytn.co.kr/general/jpg/2021/1229/202112291111390242_d.jpg\n",
      "[%] File Downloaded !\n",
      "\n",
      "[%] Downloading Image #2 from https://cdn.spotvnews.co.kr/news/photo/202204/514504_719398_4444.jpg\n",
      "[%] File Downloaded !\n",
      "\n",
      "[%] Downloading Image #3 from https://t1.daumcdn.net/cfile/tistory/267CE6405849114135\n",
      "[%] File Downloaded !\n",
      "\n",
      "\n",
      "\n",
      "[%] Done. Downloaded 3 images.\n",
      "[Inpur Dataset] Image_2.jpg\n",
      "[Test Dataset] Image_1.jpg\n",
      "[Test Dataset] Image_3.jpg\n",
      "[%] Downloading Images to /opt/ml/project/김지원\n",
      "\n",
      "\n",
      "[!!]Indexing page: 1\n",
      "\n",
      "[%] Indexed 3 Images on Page 1.\n",
      "\n",
      "===============================================\n",
      "\n",
      "[%] Downloading Image #1 from https://newsimg.sedaily.com/2018/02/11/1RVNW09FC6_1.jpg\n",
      "[%] File Downloaded !\n",
      "\n",
      "[%] Downloading Image #2 from http://img.etoday.co.kr/pto_db/2016/07/20160709123415_901441_600_900.jpg\n",
      "[%] File Downloaded !\n",
      "\n",
      "[%] Downloading Image #3 from https://t1.daumcdn.net/cfile/tistory/257A5B34536EE51D30\n",
      "[%] File Downloaded !\n",
      "\n",
      "\n",
      "\n",
      "[%] Done. Downloaded 3 images.\n",
      "[Inpur Dataset] Image_2.jpg\n",
      "[Test Dataset] Image_1.jpg\n",
      "[Test Dataset] Image_3.jpg\n",
      "[%] Downloading Images to /opt/ml/project/배수지\n",
      "\n",
      "\n",
      "[!!]Indexing page: 1\n",
      "\n",
      "[%] Indexed 3 Images on Page 1.\n",
      "\n",
      "===============================================\n",
      "\n",
      "[%] Downloading Image #1 from https://i.pinimg.com/originals/70/ed/b2/70edb2be00b3768c27f1e8a57b4d8d9b.jpg\n",
      "[%] File Downloaded !\n",
      "\n",
      "[%] Downloading Image #2 from http://image.kmib.co.kr/online_image/2015/1207/201512070049_61180010136622_1.jpg\n",
      "[%] File Downloaded !\n",
      "\n",
      "[%] Downloading Image #3 from https://i.pinimg.com/originals/dd/52/29/dd5229d51ac729e859b9299d9bfb4bb2.jpg\n",
      "[%] File Downloaded !\n",
      "\n",
      "\n",
      "\n",
      "[%] Done. Downloaded 3 images.\n",
      "[Inpur Dataset] Image_2.jpg\n",
      "[Test Dataset] Image_1.jpg\n",
      "[Test Dataset] Image_3.jpg\n"
     ]
    }
   ],
   "source": [
    "# query_string: 검색어 이름\n",
    "# limit: 검색 이미지 갯수\n",
    "# output_dir: 저장할 디렉토리\n",
    "# adult_filter_off: adult image 포함/미포함\n",
    "# force_replace: 이름이 같으면 폴더를 삭제할지말지\n",
    "# timeout: 걸릴시간의 제한\n",
    "\n",
    "for query in girl_list:\n",
    "    downloader.download(query, limit=10,  output_dir='./', adult_filter_off=True, force_replace=False, timeout=60)\n",
    "    dataset_split(query, 1)"
   ]
  },
  {
   "cell_type": "code",
   "execution_count": 6,
   "id": "9a60a431",
   "metadata": {},
   "outputs": [],
   "source": [
    "import cv2\n",
    "import os\n",
    "import glob"
   ]
  },
  {
   "cell_type": "code",
   "execution_count": 7,
   "id": "8052f1b2",
   "metadata": {},
   "outputs": [],
   "source": [
    "face_cascade = cv2.CascadeClassifier('opencv-4.x/data/haarcascades/haarcascade_frontalface_alt.xml')\n",
    "eye_cascade = cv2.CascadeClassifier('opencv-4.x/data/haarcascades/haarcascade_eye.xml')"
   ]
  },
  {
   "cell_type": "code",
   "execution_count": 6,
   "id": "962d6c7d",
   "metadata": {},
   "outputs": [],
   "source": [
    "#영문으로 폴더 이름 바꾸기\n",
    "for index in range(len(girl_list)):\n",
    "    name = girl_list[index]\n",
    "    eng_name = girl_list_eng[index]\n",
    "    origin_test_path = os.path.join('celeb_dataset','test',name)\n",
    "    eng_test_path = os.path.join('celeb_dataset','test',eng_name)\n",
    "    os.rename(origin_test_path,eng_test_path)\n",
    "    origin_train_path = os.path.join('celeb_dataset','input',name)\n",
    "    eng_train_path = os.path.join('celeb_dataset','input',eng_name)\n",
    "    os.rename(origin_train_path,eng_train_path)"
   ]
  },
  {
   "cell_type": "code",
   "execution_count": 9,
   "id": "3159c8e1",
   "metadata": {},
   "outputs": [],
   "source": [
    "for name in girl_list_eng:\n",
    "    fpath = os.path.join('celeb_dataset','test',name,\"*.*\")  # 모든 파일 확장자에 대해 검색\n",
    "    for fpath in glob.glob(fpath):\n",
    "        ext = os.path.splitext(fpath)[1]  # 파일 확장자 가져오기\n",
    "        if ext.lower() != '.jpg':  # '.jpg' 파일이 아닌 경우에만 처리\n",
    "            path_r = \"celeb_dataset/test/\" + name + '/' +  os.path.splitext(os.path.basename(fpath))[0] + \".jpg\"\n",
    "            os.rename(fpath, path_r)"
   ]
  },
  {
   "cell_type": "code",
   "execution_count": 10,
   "id": "3fec3c3e",
   "metadata": {},
   "outputs": [],
   "source": [
    "for name in girl_list_eng:\n",
    "    fpath_train = os.path.join('celeb_dataset', 'input', name, \"*.*\")  # 모든 파일 확장자에 대해 검색\n",
    "    for fpath_train in glob.glob(fpath_train):\n",
    "        ext = os.path.splitext(fpath_train)[1]  # 파일 확장자 가져오기\n",
    "        if ext.lower() != '.jpg':  # '.jpg' 파일이 아닌 경우에만 처리\n",
    "            path_r_train = \"celeb_dataset/train/\" + name + '/' +  os.path.splitext(os.path.basename(fpath_train))[0] + \".jpg\"\n",
    "            os.rename(fpath_train, path_r_train)\n",
    "            "
   ]
  },
  {
   "cell_type": "code",
   "execution_count": null,
   "id": "e47adad1",
   "metadata": {
    "scrolled": true
   },
   "outputs": [],
   "source": [
    "# for name in girl_list_eng:\n",
    "#     cnt = 1\n",
    "#     fpath = os.path.join('celeb_dataset',name,\"*.jpg\") \n",
    "#     for fpath in glob.glob(fpath):\n",
    "#         path_r = \"celeb_dataset/\"+name+'/'+str(cnt)+\".jpg\"\n",
    "#         os.rename(fpath,path_r)\n",
    "#         cnt = cnt+1"
   ]
  },
  {
   "cell_type": "code",
   "execution_count": null,
   "id": "97472469",
   "metadata": {
    "scrolled": true
   },
   "outputs": [],
   "source": [
    "# for girl_name in girl_list_eng:\n",
    "#     for num in range(1,20):\n",
    "#         try:\n",
    "#             print(\"celeb_dataset/\"+girl_name+'/'+str(num)+\".jpg\")\n",
    "#             img = cv2.imread(os.path.join('celeb_dataset', girl_name, f'{num}.jpg'))\n",
    "#             gray = cv2.cvtColor(img, cv2.COLOR_BGR2GRAY)\n",
    "#             faces = face_cascade.detectMultiScale(gray, 1.3,5)\n",
    "#             for (x,y,w,h) in faces:\n",
    "#                 # cv2.rectangle(img, (x,y), (x+w, y+h), (255,0,0),2)\n",
    "#                 cropped = img[y - int(h/4):y + h + int(h/4), x - int(w/4):x + w + int(w/4)]\n",
    "#                 cv2.imwrite(os.path.join('celeb_dataset', girl_name, f'{num}.png'), cropped)\n",
    "#                 roi_gray = gray[y:y+h, x:x+w]\n",
    "#                 roi_color = img[y:y+h, x:x+w]\n",
    "#                 eyes = eye_cascade.detectMultiScale(roi_gray)\n",
    "#                 for (ex, ey, ew, eh) in eyes:\n",
    "#                     cv2.rectangle(roi_color, (ex,ey), (ex+ew, ey+eh),(0,255,0),2)\n",
    "#         except:\n",
    "#             print(\"error!!! : celeb_dataset/\"+girl_name+'/'+str(num)+\".jpg\")\n",
    "#             continue\n",
    "        "
   ]
  },
  {
   "cell_type": "code",
   "execution_count": null,
   "id": "0874dedb",
   "metadata": {},
   "outputs": [],
   "source": [
    "# print(\"celeb_dataset/test/\"+girl_name+'/'+str(num)+\".jpg\")"
   ]
  }
 ],
 "metadata": {
  "kernelspec": {
   "display_name": "base",
   "language": "python",
   "name": "python3"
  },
  "language_info": {
   "codemirror_mode": {
    "name": "ipython",
    "version": 3
   },
   "file_extension": ".py",
   "mimetype": "text/x-python",
   "name": "python",
   "nbconvert_exporter": "python",
   "pygments_lexer": "ipython3",
   "version": "3.8.5"
  }
 },
 "nbformat": 4,
 "nbformat_minor": 5
}
